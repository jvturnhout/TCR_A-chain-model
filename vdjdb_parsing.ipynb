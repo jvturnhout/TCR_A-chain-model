{
 "cells": [
  {
   "cell_type": "markdown",
   "metadata": {},
   "source": [
    "## Parsing of the VDJdb data\n",
    "\n",
    "data from the VDJ database collected on December 11, 2020 is parsed in this file using the following steps:\n",
    "* Duplicate rows are removed\n",
    "* Rows with missing values in one of the columns are removed\n",
    "* CDR3 sequences with non-amino acid characters are removed\n",
    "* CDR3 sequences not starting with 'C' or ending with 'F' or 'W' are removed because these amino acids are conserved residues\n",
    "* The V and J columns were checked to see if they contained values not present in the IMGT database\n",
    "* The J gene is split of the gene columns and the 'TRAJ' identifier and J allele are removed\n",
    "* J gene is filled to 2 characters by adding a 0 at the front if there is only one character present\n",
    "* The V column is split in a V family and V gene column, the 'TRAV' identifier and V allele are removed\n",
    "* The V gene was added to V families with only 1 possible V gene because they were not always given in the db\n",
    "* Both V family and gene are filled to 2 characters, like the J gene column"
   ]
  },
  {
   "cell_type": "code",
   "execution_count": 1,
   "metadata": {},
   "outputs": [],
   "source": [
    "import pandas as pd"
   ]
  },
  {
   "cell_type": "code",
   "execution_count": 20,
   "metadata": {},
   "outputs": [
    {
     "data": {
      "text/html": [
       "<div>\n",
       "<style scoped>\n",
       "    .dataframe tbody tr th:only-of-type {\n",
       "        vertical-align: middle;\n",
       "    }\n",
       "\n",
       "    .dataframe tbody tr th {\n",
       "        vertical-align: top;\n",
       "    }\n",
       "\n",
       "    .dataframe thead th {\n",
       "        text-align: right;\n",
       "    }\n",
       "</style>\n",
       "<table border=\"1\" class=\"dataframe\">\n",
       "  <thead>\n",
       "    <tr style=\"text-align: right;\">\n",
       "      <th></th>\n",
       "      <th>Gene</th>\n",
       "      <th>CDR3</th>\n",
       "      <th>V</th>\n",
       "      <th>J</th>\n",
       "      <th>Species</th>\n",
       "      <th>Epitope</th>\n",
       "    </tr>\n",
       "  </thead>\n",
       "  <tbody>\n",
       "    <tr>\n",
       "      <th>0</th>\n",
       "      <td>TRA</td>\n",
       "      <td>CAVGNNAGNMLTF</td>\n",
       "      <td>TRAV20*01</td>\n",
       "      <td>TRAJ39*01</td>\n",
       "      <td>HomoSapiens</td>\n",
       "      <td>NEGVKAAW</td>\n",
       "    </tr>\n",
       "    <tr>\n",
       "      <th>1</th>\n",
       "      <td>TRA</td>\n",
       "      <td>CAAKTGGGNKLTF</td>\n",
       "      <td>TRAV29/DV5*01</td>\n",
       "      <td>TRAJ10*01</td>\n",
       "      <td>HomoSapiens</td>\n",
       "      <td>NEGVKAAW</td>\n",
       "    </tr>\n",
       "    <tr>\n",
       "      <th>2</th>\n",
       "      <td>TRA</td>\n",
       "      <td>CAAKAGGGNKLTF</td>\n",
       "      <td>TRAV29/DV5*01</td>\n",
       "      <td>TRAJ10*01</td>\n",
       "      <td>HomoSapiens</td>\n",
       "      <td>NEGVKAAW</td>\n",
       "    </tr>\n",
       "    <tr>\n",
       "      <th>3</th>\n",
       "      <td>TRA</td>\n",
       "      <td>CAAITGIGGSQGNLIF</td>\n",
       "      <td>TRAV13-1*01</td>\n",
       "      <td>TRAJ42*01</td>\n",
       "      <td>HomoSapiens</td>\n",
       "      <td>NEGVKAAW</td>\n",
       "    </tr>\n",
       "    <tr>\n",
       "      <th>4</th>\n",
       "      <td>TRA</td>\n",
       "      <td>CAGTDGGATNKLIF</td>\n",
       "      <td>TRAV36/DV7*01</td>\n",
       "      <td>TRAJ32*01</td>\n",
       "      <td>HomoSapiens</td>\n",
       "      <td>NEGVKAAW</td>\n",
       "    </tr>\n",
       "  </tbody>\n",
       "</table>\n",
       "</div>"
      ],
      "text/plain": [
       "  Gene              CDR3              V          J      Species   Epitope\n",
       "0  TRA     CAVGNNAGNMLTF      TRAV20*01  TRAJ39*01  HomoSapiens  NEGVKAAW\n",
       "1  TRA     CAAKTGGGNKLTF  TRAV29/DV5*01  TRAJ10*01  HomoSapiens  NEGVKAAW\n",
       "2  TRA     CAAKAGGGNKLTF  TRAV29/DV5*01  TRAJ10*01  HomoSapiens  NEGVKAAW\n",
       "3  TRA  CAAITGIGGSQGNLIF    TRAV13-1*01  TRAJ42*01  HomoSapiens  NEGVKAAW\n",
       "4  TRA    CAGTDGGATNKLIF  TRAV36/DV7*01  TRAJ32*01  HomoSapiens  NEGVKAAW"
      ]
     },
     "execution_count": 20,
     "metadata": {},
     "output_type": "execute_result"
    }
   ],
   "source": [
    "vdjdb_data = pd.read_csv(\"vdjdb_data.csv\")\n",
    "vdjdb_data = vdjdb_data.drop_duplicates()\n",
    "vdjdb_data.head()"
   ]
  },
  {
   "cell_type": "code",
   "execution_count": 21,
   "metadata": {},
   "outputs": [
    {
     "name": "stdout",
     "output_type": "stream",
     "text": [
      "['HomoSapiens']\n"
     ]
    }
   ],
   "source": [
    "species = vdjdb_data['Species'].unique()\n",
    "print(species)"
   ]
  },
  {
   "cell_type": "code",
   "execution_count": 22,
   "metadata": {},
   "outputs": [
    {
     "name": "stdout",
     "output_type": "stream",
     "text": [
      "['TRAJ39*01' 'TRAJ10*01' 'TRAJ42*01' 'TRAJ32*01' 'TRAJ13*01' 'TRAJ8*01'\n",
      " 'TRAJ47*01' 'TRAJ29*01' 'TRAJ17*01' 'TRAJ38*01' 'TRAJ44*01' 'TRAJ49*01'\n",
      " 'TRAJ26*01' 'TRAJ34*01' 'TRAJ40*01' 'TRAJ33*01' 'TRAJ23*01' 'TRAJ57*01'\n",
      " 'TRAJ43*01' 'TRAJ6*01' 'TRAJ20*01' 'TRAJ30*01' 'TRAJ48*01' 'TRAJ31*01'\n",
      " 'TRAJ45*01' 'TRAJ3*01' 'TRAJ27*01' 'TRAJ36*01' 'TRAJ52*01' 'TRAJ15*01'\n",
      " 'TRAJ5*01' 'TRAJ4*01' 'TRAJ50*01' 'TRAJ28*01' 'TRAJ53*01' 'TRAJ37*01'\n",
      " 'TRAJ22*01' 'TRAJ41*01' 'TRAJ9*01' 'TRAJ12*01' 'TRAJ11*01' 'TRAJ46*01'\n",
      " 'TRAJ54*01' 'TRAJ18*01' 'TRAJ21*01' 'TRAJ56*01' 'TRAJ7*01' 'TRAJ14*01'\n",
      " 'TRAJ13*02' 'TRAJ24*02']\n"
     ]
    }
   ],
   "source": [
    "TRAJ = vdjdb_data['J'].unique()\n",
    "TRAV = vdjdb_data['V'].unique()\n",
    "print(TRAJ)"
   ]
  },
  {
   "cell_type": "code",
   "execution_count": 23,
   "metadata": {},
   "outputs": [
    {
     "name": "stdout",
     "output_type": "stream",
     "text": [
      "['TRAV20*01' 'TRAV29/DV5*01' 'TRAV13-1*01' 'TRAV36/DV7*01' 'TRAV19*01'\n",
      " 'TRAV8-2*01' 'TRAV27*01' 'TRAV8-6*01' 'TRAV35*01' 'TRAV9-2*01'\n",
      " 'TRAV23/DV6*01' 'TRAV38-2/DV8*01' 'TRAV18*01' 'TRAV8-3*01' 'TRAV22*01'\n",
      " 'TRAV13-2*01' 'TRAV21*01' 'TRAV8-4*01' 'TRAV5*01' 'TRAV12-2*01'\n",
      " 'TRAV38-1*01' 'TRAV12-1*01' 'TRAV1-2*01' 'TRAV39*01' 'TRAV16*01'\n",
      " 'TRAV17*01' 'TRAV10*01' 'TRAV24*01' 'TRAV41*01' 'TRAV12-3*01' 'TRAV3*01'\n",
      " 'TRAV8-1*01' 'TRAV26-2*01' 'TRAV4*01' 'TRAV14/DV4*01' 'TRAV2*01'\n",
      " 'TRAV30*01' 'TRAV25*01' 'TRAV26-1*01' 'TRAV1-1*01' 'TRAV34*01'\n",
      " 'TRAV40*01' 'TRAV6*01' 'TRAV9-1*01' 'TRAV7*01' 'TRAV14/DV4*02'\n",
      " 'TRAV8-6*02']\n"
     ]
    }
   ],
   "source": [
    "print(TRAV) "
   ]
  },
  {
   "cell_type": "code",
   "execution_count": 24,
   "metadata": {},
   "outputs": [
    {
     "data": {
      "text/html": [
       "<div>\n",
       "<style scoped>\n",
       "    .dataframe tbody tr th:only-of-type {\n",
       "        vertical-align: middle;\n",
       "    }\n",
       "\n",
       "    .dataframe tbody tr th {\n",
       "        vertical-align: top;\n",
       "    }\n",
       "\n",
       "    .dataframe thead th {\n",
       "        text-align: right;\n",
       "    }\n",
       "</style>\n",
       "<table border=\"1\" class=\"dataframe\">\n",
       "  <thead>\n",
       "    <tr style=\"text-align: right;\">\n",
       "      <th></th>\n",
       "      <th>Gene</th>\n",
       "      <th>CDR3</th>\n",
       "      <th>V</th>\n",
       "      <th>Species</th>\n",
       "      <th>Epitope</th>\n",
       "      <th>J_gene</th>\n",
       "    </tr>\n",
       "  </thead>\n",
       "  <tbody>\n",
       "    <tr>\n",
       "      <th>0</th>\n",
       "      <td>TRA</td>\n",
       "      <td>CAVGNNAGNMLTF</td>\n",
       "      <td>TRAV20*01</td>\n",
       "      <td>HomoSapiens</td>\n",
       "      <td>NEGVKAAW</td>\n",
       "      <td>39</td>\n",
       "    </tr>\n",
       "    <tr>\n",
       "      <th>1</th>\n",
       "      <td>TRA</td>\n",
       "      <td>CAAKTGGGNKLTF</td>\n",
       "      <td>TRAV29/DV5*01</td>\n",
       "      <td>HomoSapiens</td>\n",
       "      <td>NEGVKAAW</td>\n",
       "      <td>10</td>\n",
       "    </tr>\n",
       "    <tr>\n",
       "      <th>2</th>\n",
       "      <td>TRA</td>\n",
       "      <td>CAAKAGGGNKLTF</td>\n",
       "      <td>TRAV29/DV5*01</td>\n",
       "      <td>HomoSapiens</td>\n",
       "      <td>NEGVKAAW</td>\n",
       "      <td>10</td>\n",
       "    </tr>\n",
       "    <tr>\n",
       "      <th>3</th>\n",
       "      <td>TRA</td>\n",
       "      <td>CAAITGIGGSQGNLIF</td>\n",
       "      <td>TRAV13-1*01</td>\n",
       "      <td>HomoSapiens</td>\n",
       "      <td>NEGVKAAW</td>\n",
       "      <td>42</td>\n",
       "    </tr>\n",
       "    <tr>\n",
       "      <th>4</th>\n",
       "      <td>TRA</td>\n",
       "      <td>CAGTDGGATNKLIF</td>\n",
       "      <td>TRAV36/DV7*01</td>\n",
       "      <td>HomoSapiens</td>\n",
       "      <td>NEGVKAAW</td>\n",
       "      <td>32</td>\n",
       "    </tr>\n",
       "  </tbody>\n",
       "</table>\n",
       "</div>"
      ],
      "text/plain": [
       "  Gene              CDR3              V      Species   Epitope J_gene\n",
       "0  TRA     CAVGNNAGNMLTF      TRAV20*01  HomoSapiens  NEGVKAAW     39\n",
       "1  TRA     CAAKTGGGNKLTF  TRAV29/DV5*01  HomoSapiens  NEGVKAAW     10\n",
       "2  TRA     CAAKAGGGNKLTF  TRAV29/DV5*01  HomoSapiens  NEGVKAAW     10\n",
       "3  TRA  CAAITGIGGSQGNLIF    TRAV13-1*01  HomoSapiens  NEGVKAAW     42\n",
       "4  TRA    CAGTDGGATNKLIF  TRAV36/DV7*01  HomoSapiens  NEGVKAAW     32"
      ]
     },
     "execution_count": 24,
     "metadata": {},
     "output_type": "execute_result"
    }
   ],
   "source": [
    "# Parsing of the J-column\n",
    "# In the first step the 'TRAJ' classifier is removed\n",
    "vdjdb_data.replace('TRAJ','',regex=True, inplace = True)\n",
    "# In the second step the J_allele is splitsed from the J_gene based on the * character, the J_allele is then removed as it is not needed in downstream steps\n",
    "vdjdb_data[['J_gene','J_allele']] = vdjdb_data.J.str.split (\"*\",expand=True)\n",
    "vdjdb_data = vdjdb_data.drop('J',1)\n",
    "vdjdb_data = vdjdb_data.drop('J_allele',1)\n",
    "# add a leading 0 to all families with only one digit so the length of all classifiers are the same\n",
    "vdjdb_data['J_gene'] = vdjdb_data['J_gene'].str.zfill(2)\n",
    "vdjdb_data.head()"
   ]
  },
  {
   "cell_type": "code",
   "execution_count": 25,
   "metadata": {},
   "outputs": [
    {
     "name": "stdout",
     "output_type": "stream",
     "text": [
      "['39' '10' '42' '32' '13' '08' '47' '29' '17' '38' '44' '49' '26' '34'\n",
      " '40' '33' '23' '57' '43' '06' '20' '30' '48' '31' '45' '03' '27' '36'\n",
      " '52' '15' '05' '04' '50' '28' '53' '37' '22' '41' '09' '12' '11' '46'\n",
      " '54' '18' '21' '56' '07' '14' '24']\n"
     ]
    }
   ],
   "source": [
    "J = vdjdb_data['J_gene'].unique()\n",
    "print(J)"
   ]
  },
  {
   "cell_type": "code",
   "execution_count": 26,
   "metadata": {},
   "outputs": [
    {
     "data": {
      "text/html": [
       "<div>\n",
       "<style scoped>\n",
       "    .dataframe tbody tr th:only-of-type {\n",
       "        vertical-align: middle;\n",
       "    }\n",
       "\n",
       "    .dataframe tbody tr th {\n",
       "        vertical-align: top;\n",
       "    }\n",
       "\n",
       "    .dataframe thead th {\n",
       "        text-align: right;\n",
       "    }\n",
       "</style>\n",
       "<table border=\"1\" class=\"dataframe\">\n",
       "  <thead>\n",
       "    <tr style=\"text-align: right;\">\n",
       "      <th></th>\n",
       "      <th>CDR3</th>\n",
       "      <th>Epitope</th>\n",
       "      <th>Gene</th>\n",
       "      <th>J_gene</th>\n",
       "      <th>Species</th>\n",
       "      <th>V_1</th>\n",
       "      <th>V_2</th>\n",
       "      <th>V_3</th>\n",
       "      <th>V_family</th>\n",
       "      <th>V_gene</th>\n",
       "    </tr>\n",
       "  </thead>\n",
       "  <tbody>\n",
       "    <tr>\n",
       "      <th>0</th>\n",
       "      <td>CAVGNNAGNMLTF</td>\n",
       "      <td>NEGVKAAW</td>\n",
       "      <td>TRA</td>\n",
       "      <td>39</td>\n",
       "      <td>HomoSapiens</td>\n",
       "      <td>20</td>\n",
       "      <td>-</td>\n",
       "      <td>01</td>\n",
       "      <td>20</td>\n",
       "      <td>20-01</td>\n",
       "    </tr>\n",
       "    <tr>\n",
       "      <th>1</th>\n",
       "      <td>CAAKTGGGNKLTF</td>\n",
       "      <td>NEGVKAAW</td>\n",
       "      <td>TRA</td>\n",
       "      <td>10</td>\n",
       "      <td>HomoSapiens</td>\n",
       "      <td>29/DV5</td>\n",
       "      <td>None</td>\n",
       "      <td>None</td>\n",
       "      <td>29</td>\n",
       "      <td>29/DV5</td>\n",
       "    </tr>\n",
       "    <tr>\n",
       "      <th>2</th>\n",
       "      <td>CAAKAGGGNKLTF</td>\n",
       "      <td>NEGVKAAW</td>\n",
       "      <td>TRA</td>\n",
       "      <td>10</td>\n",
       "      <td>HomoSapiens</td>\n",
       "      <td>29/DV5</td>\n",
       "      <td>None</td>\n",
       "      <td>None</td>\n",
       "      <td>29</td>\n",
       "      <td>29/DV5</td>\n",
       "    </tr>\n",
       "    <tr>\n",
       "      <th>3</th>\n",
       "      <td>CAAITGIGGSQGNLIF</td>\n",
       "      <td>NEGVKAAW</td>\n",
       "      <td>TRA</td>\n",
       "      <td>42</td>\n",
       "      <td>HomoSapiens</td>\n",
       "      <td>13</td>\n",
       "      <td>-</td>\n",
       "      <td>01</td>\n",
       "      <td>13</td>\n",
       "      <td>13-01</td>\n",
       "    </tr>\n",
       "    <tr>\n",
       "      <th>4</th>\n",
       "      <td>CAGTDGGATNKLIF</td>\n",
       "      <td>NEGVKAAW</td>\n",
       "      <td>TRA</td>\n",
       "      <td>32</td>\n",
       "      <td>HomoSapiens</td>\n",
       "      <td>36/DV7</td>\n",
       "      <td>None</td>\n",
       "      <td>None</td>\n",
       "      <td>36</td>\n",
       "      <td>36/DV7</td>\n",
       "    </tr>\n",
       "  </tbody>\n",
       "</table>\n",
       "</div>"
      ],
      "text/plain": [
       "               CDR3   Epitope Gene J_gene      Species     V_1   V_2   V_3  \\\n",
       "0     CAVGNNAGNMLTF  NEGVKAAW  TRA     39  HomoSapiens      20     -    01   \n",
       "1     CAAKTGGGNKLTF  NEGVKAAW  TRA     10  HomoSapiens  29/DV5  None  None   \n",
       "2     CAAKAGGGNKLTF  NEGVKAAW  TRA     10  HomoSapiens  29/DV5  None  None   \n",
       "3  CAAITGIGGSQGNLIF  NEGVKAAW  TRA     42  HomoSapiens      13     -    01   \n",
       "4    CAGTDGGATNKLIF  NEGVKAAW  TRA     32  HomoSapiens  36/DV7  None  None   \n",
       "\n",
       "  V_family  V_gene  \n",
       "0       20   20-01  \n",
       "1       29  29/DV5  \n",
       "2       29  29/DV5  \n",
       "3       13   13-01  \n",
       "4       36  36/DV7  "
      ]
     },
     "execution_count": 26,
     "metadata": {},
     "output_type": "execute_result"
    }
   ],
   "source": [
    "# Parsing of the V-column\n",
    "# In the first step the 'trav' classifier is removed\n",
    "vdjdb_data.replace('TRAV','',regex=True, inplace = True)\n",
    "# In the second step the allele is split from the gene and family, by using the * character \n",
    "vdjdb_data[['V','V_allele']] = vdjdb_data.V.str.split(\"*\",expand=True)\n",
    "vdjdb_data = vdjdb_data.drop('V_allele',1)\n",
    "\n",
    "# All families where only one gene is possible are supplemented with the gene, because they are not always given in the database\n",
    "vdjdb_data['V'] = vdjdb_data['V'].str.zfill(2)\n",
    "vdjdb_data = vdjdb_data.replace({\"V\": { '02' : \"02-01\", '03' : \"03-01\", \"04\" : \"04-01\", \"05\" : \"05-01\", \"06\" : \"06-01\", \"07\" : \"07-01\", \"10\" : \"10-01\", \"15\" : \"15-01\", \"16\" : \"16-01\", \"17\" : \"17-01\", \"18\" : \"18-01\", \"19\" : \"19-01\", \"20\" : \"20-01\", \"21\" : \"21-01\", \"22\" : \"22-01\", \"24\" : \"24-01\", \"25\" : \"25-01\", \"27\" : \"27-01\", \"28\" : \"28-01\", \"30\" : \"30-01\", \"31\" : \"31-01\", \"32\" : \"32-01\", \"33\" : \"33-01\", \"34\" : \"34-01\", \"35\" : \"35-01\", \"37\" : \"37-01\", \"39\" : \"39-01\", \"40\" : \"40-01\", \"41\" : \"41-01\", \"46\" : \"46-01\"}})\n",
    "\n",
    "# Split off the V_family\n",
    "vdjdb_data[['V_family','V_gene_1','V_gene_2']] = vdjdb_data.V.str.split (\"-|/\",expand=True)\n",
    "\n",
    "# Fill V_family to 2 digits\n",
    "vdjdb_data['V_family'] = vdjdb_data['V_family'].str.zfill(2)\n",
    "# split gene and family, fill both to 2 digits\n",
    "vdjdb_data[['V_1','V_2','V_3']] = vdjdb_data.V.str.split (\"(-)\",expand=True)\n",
    "vdjdb_data['V_1'] = vdjdb_data['V_1'].str.zfill(2)\n",
    "vdjdb_data['V_3'] = vdjdb_data['V_3'].str.zfill(2)\n",
    "# Put family and gene back together\n",
    "vdjdb_data = vdjdb_data.assign(V = vdjdb_data.V_1.astype(str) + vdjdb_data.V_2.astype(str) + vdjdb_data.V_3.astype(str))\n",
    "vdjdb_data.replace('nan','',regex=True, inplace = True)\n",
    "\n",
    "# V_gene_1 and 2 are removed as they are no longer needed\n",
    "vdjdb_data = vdjdb_data.drop('V_gene_1',1)\n",
    "vdjdb_data = vdjdb_data.drop('V_gene_2',1)\n",
    "# column V is renamed to V_gene, so the name of this columns is the same in all datafiles\n",
    "vdjdb_data = vdjdb_data.rename(columns={'V': 'V_gene'})\n",
    "vdjdb_data = vdjdb_data[sorted(vdjdb_data.columns)]\n",
    "vdjdb_data.head()"
   ]
  },
  {
   "cell_type": "code",
   "execution_count": 27,
   "metadata": {},
   "outputs": [
    {
     "name": "stdout",
     "output_type": "stream",
     "text": [
      "['20-01' '29/DV5' '13-01' '36/DV7' '19-01' '08-02' '27-01' '08-06' '35-01'\n",
      " '09-02' '23/DV6' '38-2/DV8' '18-01' '08-03' '22-01' '13-02' '21-01'\n",
      " '08-04' '05-01' '12-02' '38-01' '12-01' '01-02' '39-01' '16-01' '17-01'\n",
      " '10-01' '24-01' '41-01' '12-03' '03-01' '08-01' '26-02' '04-01' '14/DV4'\n",
      " '02-01' '30-01' '25-01' '26-01' '01-01' '34-01' '40-01' '06-01' '09-01'\n",
      " '07-01']\n"
     ]
    }
   ],
   "source": [
    "V = vdjdb_data['V_gene'].unique()\n",
    "print(V)"
   ]
  },
  {
   "cell_type": "code",
   "execution_count": 28,
   "metadata": {},
   "outputs": [
    {
     "name": "stdout",
     "output_type": "stream",
     "text": [
      "['C']\n"
     ]
    }
   ],
   "source": [
    "# See if CDR3 sequences start with C and end with F\n",
    "vdjdb_data['CDR3_start'] = vdjdb_data['CDR3'].str[0] \n",
    "vdjdb_data['CDR3_end'] = vdjdb_data['CDR3'].str[-1] \n",
    "# Remove rows with CDR3 sequences which do not start with a C and end with a F or W\n",
    "vdjdb_data = vdjdb_data.loc[vdjdb_data['CDR3_end'].str.contains(r'[F,W]') == True]\n",
    "vdjdb_data = vdjdb_data.loc[vdjdb_data['CDR3_start'].str.contains(r'[C]') == True]\n",
    "\n",
    "# CDR3 sequences with unknown Aminoacids, weird characters, no CDR3 sequence present or lowercase AA are removed  \n",
    "weird_characters = [r'[_]',r'[*]',r'[(]',r'[)]',r'[NaN]',r'[a-z]']\n",
    "for char in weird_characters:\n",
    "    vdjdb_data = vdjdb_data.loc[vdjdb_data['CDR3'].str.contains(char) == False]\n",
    "\n",
    "start = vdjdb_data['CDR3_start'].unique()\n",
    "print(start)\n",
    "# the following paper states that on the N-terminus the 'C' is conserved and on the C-terminus the 'F' and 'W' are conserved, so the other ones are removed (https://www.jimmunol.org/content/jimmunol/194/1/446.full.pdf)"
   ]
  },
  {
   "cell_type": "code",
   "execution_count": 29,
   "metadata": {},
   "outputs": [
    {
     "name": "stdout",
     "output_type": "stream",
     "text": [
      "['F' 'W']\n"
     ]
    }
   ],
   "source": [
    "end = vdjdb_data['CDR3_end'].unique()\n",
    "print(end)"
   ]
  },
  {
   "cell_type": "code",
   "execution_count": 30,
   "metadata": {},
   "outputs": [],
   "source": [
    "# Delete columns not needed in further steps\n",
    "vdjdb_data = vdjdb_data[['CDR3', 'Epitope', 'Gene', 'J_gene', 'V_family', 'V_gene']]"
   ]
  },
  {
   "cell_type": "code",
   "execution_count": 31,
   "metadata": {},
   "outputs": [
    {
     "data": {
      "text/html": [
       "<div>\n",
       "<style scoped>\n",
       "    .dataframe tbody tr th:only-of-type {\n",
       "        vertical-align: middle;\n",
       "    }\n",
       "\n",
       "    .dataframe tbody tr th {\n",
       "        vertical-align: top;\n",
       "    }\n",
       "\n",
       "    .dataframe thead th {\n",
       "        text-align: right;\n",
       "    }\n",
       "</style>\n",
       "<table border=\"1\" class=\"dataframe\">\n",
       "  <thead>\n",
       "    <tr style=\"text-align: right;\">\n",
       "      <th></th>\n",
       "      <th>CDR3</th>\n",
       "      <th>Epitope</th>\n",
       "      <th>Gene</th>\n",
       "      <th>J_gene</th>\n",
       "      <th>V_family</th>\n",
       "      <th>V_gene</th>\n",
       "    </tr>\n",
       "  </thead>\n",
       "  <tbody>\n",
       "    <tr>\n",
       "      <th>5</th>\n",
       "      <td>CALSEAVSGGYQKVTF</td>\n",
       "      <td>NEGVKAAW</td>\n",
       "      <td>TRA</td>\n",
       "      <td>13</td>\n",
       "      <td>19</td>\n",
       "      <td>19-01</td>\n",
       "    </tr>\n",
       "    <tr>\n",
       "      <th>7</th>\n",
       "      <td>CVVSLTGFQKLVF</td>\n",
       "      <td>NEGVKAAW</td>\n",
       "      <td>TRA</td>\n",
       "      <td>08</td>\n",
       "      <td>08</td>\n",
       "      <td>08-02</td>\n",
       "    </tr>\n",
       "    <tr>\n",
       "      <th>9</th>\n",
       "      <td>CAVSESLVGTPLVF</td>\n",
       "      <td>NEGVKAAW</td>\n",
       "      <td>TRA</td>\n",
       "      <td>29</td>\n",
       "      <td>08</td>\n",
       "      <td>08-06</td>\n",
       "    </tr>\n",
       "    <tr>\n",
       "      <th>16</th>\n",
       "      <td>CAVSDSGTASKLTF</td>\n",
       "      <td>NEGVKAAW</td>\n",
       "      <td>TRA</td>\n",
       "      <td>44</td>\n",
       "      <td>08</td>\n",
       "      <td>08-06</td>\n",
       "    </tr>\n",
       "    <tr>\n",
       "      <th>21</th>\n",
       "      <td>CAASGTDKLIF</td>\n",
       "      <td>NEGVKAAW</td>\n",
       "      <td>TRA</td>\n",
       "      <td>34</td>\n",
       "      <td>13</td>\n",
       "      <td>13-01</td>\n",
       "    </tr>\n",
       "  </tbody>\n",
       "</table>\n",
       "</div>"
      ],
      "text/plain": [
       "                CDR3   Epitope Gene J_gene V_family V_gene\n",
       "5   CALSEAVSGGYQKVTF  NEGVKAAW  TRA     13       19  19-01\n",
       "7      CVVSLTGFQKLVF  NEGVKAAW  TRA     08       08  08-02\n",
       "9     CAVSESLVGTPLVF  NEGVKAAW  TRA     29       08  08-06\n",
       "16    CAVSDSGTASKLTF  NEGVKAAW  TRA     44       08  08-06\n",
       "21       CAASGTDKLIF  NEGVKAAW  TRA     34       13  13-01"
      ]
     },
     "execution_count": 31,
     "metadata": {},
     "output_type": "execute_result"
    }
   ],
   "source": [
    "vdjdb_data.head()"
   ]
  },
  {
   "cell_type": "code",
   "execution_count": 32,
   "metadata": {},
   "outputs": [
    {
     "name": "stdout",
     "output_type": "stream",
     "text": [
      "['19' '08' '13' '22' '09' '05' '38' '16' '01' '29' '17' '39' '10' '12'\n",
      " '24' '41' '03' '21' '26' '04' '14' '23' '02' '20' '36' '25' '34' '35'\n",
      " '27' '18' '06' '30' '40' '07']\n"
     ]
    }
   ],
   "source": [
    "TRAJ = vdjdb_data['V_family'].unique()\n",
    "print(TRAJ)"
   ]
  },
  {
   "cell_type": "code",
   "execution_count": 33,
   "metadata": {},
   "outputs": [],
   "source": [
    "vdjdb_data.to_csv('parsed_vdjdb.csv', index=False, sep=\",\")"
   ]
  },
  {
   "cell_type": "code",
   "execution_count": 34,
   "metadata": {},
   "outputs": [
    {
     "data": {
      "text/plain": [
       "(8431, 6)"
      ]
     },
     "execution_count": 34,
     "metadata": {},
     "output_type": "execute_result"
    }
   ],
   "source": [
    "vdjdb_data.shape"
   ]
  },
  {
   "cell_type": "code",
   "execution_count": 35,
   "metadata": {},
   "outputs": [
    {
     "name": "stdout",
     "output_type": "stream",
     "text": [
      "Finished\n"
     ]
    }
   ],
   "source": [
    "print('Finished')"
   ]
  },
  {
   "cell_type": "code",
   "execution_count": null,
   "metadata": {},
   "outputs": [],
   "source": []
  }
 ],
 "metadata": {
  "kernelspec": {
   "display_name": "Python [conda env:RL]",
   "language": "python",
   "name": "conda-env-RL-py"
  },
  "language_info": {
   "codemirror_mode": {
    "name": "ipython",
    "version": 3
   },
   "file_extension": ".py",
   "mimetype": "text/x-python",
   "name": "python",
   "nbconvert_exporter": "python",
   "pygments_lexer": "ipython3",
   "version": "3.7.9"
  }
 },
 "nbformat": 4,
 "nbformat_minor": 4
}
