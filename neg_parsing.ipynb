{
 "cells": [
  {
   "cell_type": "markdown",
   "metadata": {},
   "source": [
    "## Parsing of the negative data\n",
    "\n",
    "data from the iReceptor database collected using the parameters: Case-control studie, Homo Sapiens, TRA and Blood, using these parameters a database containing 2.439.440 TCR-A sequences of healthy control individuals was collected and parsed in this file using the following steps:\n",
    "* Only unique CDR3 sequences were used\n",
    "* Rows with missing values in one of the columns are removed\n",
    "* Methods where mouse strains were used are removed\n",
    "* CDR3 sequences with non-amino acid characters are removed\n",
    "* CDR3 sequences not starting with 'C' or ending with 'F' or 'W' are removed because these amino acids are conserved residues\n",
    "* The V and J columns were checked to see if they contained values not present in the IMGT database, entries not present in the IMGT db are removed\n",
    "* The J gene is split of the gene columns and the 'TRAJ' identifier and J allele are removed\n",
    "* J gene is filled to 2 characters by adding a 0 at the front if there is only one character present\n",
    "* The V column is split in a V family and V gene column, the 'TRAV' identifier and V allele are removed\n",
    "* The V gene was added to V families with only 1 possible V gene because they were not always given in the db\n",
    "* Both V family and gene are filled to 2 characters, like the J gene column\n",
    "* The epitope columns was added and all epitopes were named 'Control'"
   ]
  },
  {
   "cell_type": "code",
   "execution_count": 1,
   "metadata": {},
   "outputs": [],
   "source": [
    "import pandas as pd"
   ]
  },
  {
   "cell_type": "code",
   "execution_count": 2,
   "metadata": {},
   "outputs": [
    {
     "data": {
      "text/html": [
       "<div>\n",
       "<style scoped>\n",
       "    .dataframe tbody tr th:only-of-type {\n",
       "        vertical-align: middle;\n",
       "    }\n",
       "\n",
       "    .dataframe tbody tr th {\n",
       "        vertical-align: top;\n",
       "    }\n",
       "\n",
       "    .dataframe thead th {\n",
       "        text-align: right;\n",
       "    }\n",
       "</style>\n",
       "<table border=\"1\" class=\"dataframe\">\n",
       "  <thead>\n",
       "    <tr style=\"text-align: right;\">\n",
       "      <th></th>\n",
       "      <th>v_call</th>\n",
       "      <th>j_call</th>\n",
       "      <th>Gene</th>\n",
       "      <th>CDR3</th>\n",
       "    </tr>\n",
       "  </thead>\n",
       "  <tbody>\n",
       "    <tr>\n",
       "      <th>0</th>\n",
       "      <td>TRAV41*01</td>\n",
       "      <td>TRAJ58*01</td>\n",
       "      <td>TRA</td>\n",
       "      <td>CAVPLKE_SGSSLTF</td>\n",
       "    </tr>\n",
       "    <tr>\n",
       "      <th>1</th>\n",
       "      <td>TRAV12-2*01</td>\n",
       "      <td>TRAJ40*01</td>\n",
       "      <td>TRA</td>\n",
       "      <td>CAVNDPGTYKYIF</td>\n",
       "    </tr>\n",
       "    <tr>\n",
       "      <th>2</th>\n",
       "      <td>TRAV17*01</td>\n",
       "      <td>TRAJ47*01</td>\n",
       "      <td>TRA</td>\n",
       "      <td>CATDAEYGNKLVF</td>\n",
       "    </tr>\n",
       "    <tr>\n",
       "      <th>3</th>\n",
       "      <td>TRAV41*01</td>\n",
       "      <td>TRAJ32*02</td>\n",
       "      <td>TRA</td>\n",
       "      <td>CAALYGGATNKLIF</td>\n",
       "    </tr>\n",
       "    <tr>\n",
       "      <th>4</th>\n",
       "      <td>TRAV20*01</td>\n",
       "      <td>TRAJ39*01</td>\n",
       "      <td>TRA</td>\n",
       "      <td>CAVEGNAGNMLTF</td>\n",
       "    </tr>\n",
       "  </tbody>\n",
       "</table>\n",
       "</div>"
      ],
      "text/plain": [
       "        v_call     j_call Gene             CDR3\n",
       "0    TRAV41*01  TRAJ58*01  TRA  CAVPLKE_SGSSLTF\n",
       "1  TRAV12-2*01  TRAJ40*01  TRA    CAVNDPGTYKYIF\n",
       "2    TRAV17*01  TRAJ47*01  TRA    CATDAEYGNKLVF\n",
       "3    TRAV41*01  TRAJ32*02  TRA   CAALYGGATNKLIF\n",
       "4    TRAV20*01  TRAJ39*01  TRA    CAVEGNAGNMLTF"
      ]
     },
     "execution_count": 2,
     "metadata": {},
     "output_type": "execute_result"
    }
   ],
   "source": [
    "# ImmuneACCESSdb : filters set 'control', 'human', no TCRA data was available, only TCRB data\n",
    "# iReceptor: filters set 'case-control', 'human', 'TRA', 'Healthy control', 'tissue (blood)' 'ireceptor_public_archive_1\n",
    "neg_data = pd.read_csv(\"neg_data.csv\")\n",
    "\n",
    "# Remove CDR3 sequences present more than one time\n",
    "neg_data = neg_data.drop_duplicates(subset=\"CDR3\")\n",
    "neg_data.head()"
   ]
  },
  {
   "cell_type": "code",
   "execution_count": 3,
   "metadata": {},
   "outputs": [
    {
     "data": {
      "text/html": [
       "<div>\n",
       "<style scoped>\n",
       "    .dataframe tbody tr th:only-of-type {\n",
       "        vertical-align: middle;\n",
       "    }\n",
       "\n",
       "    .dataframe tbody tr th {\n",
       "        vertical-align: top;\n",
       "    }\n",
       "\n",
       "    .dataframe thead th {\n",
       "        text-align: right;\n",
       "    }\n",
       "</style>\n",
       "<table border=\"1\" class=\"dataframe\">\n",
       "  <thead>\n",
       "    <tr style=\"text-align: right;\">\n",
       "      <th></th>\n",
       "      <th>v_call</th>\n",
       "      <th>Gene</th>\n",
       "      <th>CDR3</th>\n",
       "      <th>J_gene</th>\n",
       "    </tr>\n",
       "  </thead>\n",
       "  <tbody>\n",
       "    <tr>\n",
       "      <th>0</th>\n",
       "      <td>TRAV41*01</td>\n",
       "      <td>TRA</td>\n",
       "      <td>CAVPLKE_SGSSLTF</td>\n",
       "      <td>58</td>\n",
       "    </tr>\n",
       "    <tr>\n",
       "      <th>1</th>\n",
       "      <td>TRAV12-2*01</td>\n",
       "      <td>TRA</td>\n",
       "      <td>CAVNDPGTYKYIF</td>\n",
       "      <td>40</td>\n",
       "    </tr>\n",
       "    <tr>\n",
       "      <th>2</th>\n",
       "      <td>TRAV17*01</td>\n",
       "      <td>TRA</td>\n",
       "      <td>CATDAEYGNKLVF</td>\n",
       "      <td>47</td>\n",
       "    </tr>\n",
       "    <tr>\n",
       "      <th>3</th>\n",
       "      <td>TRAV41*01</td>\n",
       "      <td>TRA</td>\n",
       "      <td>CAALYGGATNKLIF</td>\n",
       "      <td>32</td>\n",
       "    </tr>\n",
       "    <tr>\n",
       "      <th>4</th>\n",
       "      <td>TRAV20*01</td>\n",
       "      <td>TRA</td>\n",
       "      <td>CAVEGNAGNMLTF</td>\n",
       "      <td>39</td>\n",
       "    </tr>\n",
       "  </tbody>\n",
       "</table>\n",
       "</div>"
      ],
      "text/plain": [
       "        v_call Gene             CDR3 J_gene\n",
       "0    TRAV41*01  TRA  CAVPLKE_SGSSLTF     58\n",
       "1  TRAV12-2*01  TRA    CAVNDPGTYKYIF     40\n",
       "2    TRAV17*01  TRA    CATDAEYGNKLVF     47\n",
       "3    TRAV41*01  TRA   CAALYGGATNKLIF     32\n",
       "4    TRAV20*01  TRA    CAVEGNAGNMLTF     39"
      ]
     },
     "execution_count": 3,
     "metadata": {},
     "output_type": "execute_result"
    }
   ],
   "source": [
    "# Parsing of J-column\n",
    "neg_data.replace('TRAJ','',regex=True, inplace = True)\n",
    "neg_data[['J_gene','J_allele']] = neg_data.j_call.str.split (\"*\",expand=True)\n",
    "del neg_data['j_call']\n",
    "del neg_data['J_allele']\n",
    "# add a leading 0 to all families with only one digit\n",
    "neg_data['J_gene'] = neg_data['J_gene'].str.zfill(2)\n",
    "neg_data.head()"
   ]
  },
  {
   "cell_type": "code",
   "execution_count": 4,
   "metadata": {},
   "outputs": [
    {
     "data": {
      "text/html": [
       "<div>\n",
       "<style scoped>\n",
       "    .dataframe tbody tr th:only-of-type {\n",
       "        vertical-align: middle;\n",
       "    }\n",
       "\n",
       "    .dataframe tbody tr th {\n",
       "        vertical-align: top;\n",
       "    }\n",
       "\n",
       "    .dataframe thead th {\n",
       "        text-align: right;\n",
       "    }\n",
       "</style>\n",
       "<table border=\"1\" class=\"dataframe\">\n",
       "  <thead>\n",
       "    <tr style=\"text-align: right;\">\n",
       "      <th></th>\n",
       "      <th>v_call</th>\n",
       "      <th>Gene</th>\n",
       "      <th>CDR3</th>\n",
       "      <th>J_gene</th>\n",
       "      <th>V_family</th>\n",
       "      <th>V_1</th>\n",
       "      <th>V_2</th>\n",
       "      <th>V_3</th>\n",
       "      <th>V</th>\n",
       "      <th>V_gene_present</th>\n",
       "    </tr>\n",
       "  </thead>\n",
       "  <tbody>\n",
       "    <tr>\n",
       "      <th>0</th>\n",
       "      <td>41-01</td>\n",
       "      <td>TRA</td>\n",
       "      <td>CAVPLKE_SGSSLTF</td>\n",
       "      <td>58</td>\n",
       "      <td>41</td>\n",
       "      <td>41</td>\n",
       "      <td>-</td>\n",
       "      <td>01</td>\n",
       "      <td>41-01</td>\n",
       "      <td>-</td>\n",
       "    </tr>\n",
       "    <tr>\n",
       "      <th>1</th>\n",
       "      <td>12-2</td>\n",
       "      <td>TRA</td>\n",
       "      <td>CAVNDPGTYKYIF</td>\n",
       "      <td>40</td>\n",
       "      <td>12</td>\n",
       "      <td>12</td>\n",
       "      <td>-</td>\n",
       "      <td>02</td>\n",
       "      <td>12-02</td>\n",
       "      <td>-</td>\n",
       "    </tr>\n",
       "    <tr>\n",
       "      <th>2</th>\n",
       "      <td>17-01</td>\n",
       "      <td>TRA</td>\n",
       "      <td>CATDAEYGNKLVF</td>\n",
       "      <td>47</td>\n",
       "      <td>17</td>\n",
       "      <td>17</td>\n",
       "      <td>-</td>\n",
       "      <td>01</td>\n",
       "      <td>17-01</td>\n",
       "      <td>-</td>\n",
       "    </tr>\n",
       "    <tr>\n",
       "      <th>3</th>\n",
       "      <td>41-01</td>\n",
       "      <td>TRA</td>\n",
       "      <td>CAALYGGATNKLIF</td>\n",
       "      <td>32</td>\n",
       "      <td>41</td>\n",
       "      <td>41</td>\n",
       "      <td>-</td>\n",
       "      <td>01</td>\n",
       "      <td>41-01</td>\n",
       "      <td>-</td>\n",
       "    </tr>\n",
       "    <tr>\n",
       "      <th>4</th>\n",
       "      <td>20-01</td>\n",
       "      <td>TRA</td>\n",
       "      <td>CAVEGNAGNMLTF</td>\n",
       "      <td>39</td>\n",
       "      <td>20</td>\n",
       "      <td>20</td>\n",
       "      <td>-</td>\n",
       "      <td>01</td>\n",
       "      <td>20-01</td>\n",
       "      <td>-</td>\n",
       "    </tr>\n",
       "  </tbody>\n",
       "</table>\n",
       "</div>"
      ],
      "text/plain": [
       "  v_call Gene             CDR3 J_gene V_family V_1 V_2 V_3      V  \\\n",
       "0  41-01  TRA  CAVPLKE_SGSSLTF     58       41  41   -  01  41-01   \n",
       "1   12-2  TRA    CAVNDPGTYKYIF     40       12  12   -  02  12-02   \n",
       "2  17-01  TRA    CATDAEYGNKLVF     47       17  17   -  01  17-01   \n",
       "3  41-01  TRA   CAALYGGATNKLIF     32       41  41   -  01  41-01   \n",
       "4  20-01  TRA    CAVEGNAGNMLTF     39       20  20   -  01  20-01   \n",
       "\n",
       "  V_gene_present  \n",
       "0              -  \n",
       "1              -  \n",
       "2              -  \n",
       "3              -  \n",
       "4              -  "
      ]
     },
     "execution_count": 4,
     "metadata": {},
     "output_type": "execute_result"
    }
   ],
   "source": [
    "# Parsing of the V-column, in the first step the 'trav' classifier is removed\n",
    "neg_data.replace('TRAV','',regex=True, inplace = True)\n",
    "# In the second step the allele is split from the gene and family, by using the * character \n",
    "neg_data[['v_call','V_allele']] = neg_data.v_call.str.split(\"*\",expand=True)\n",
    "neg_data = neg_data.drop('V_allele',1)\n",
    "\n",
    "# All families where only one gene is possible are supplemented with the gene, because they are not always given in the database\n",
    "neg_data['v_call'] = neg_data['v_call'].str.zfill(2)\n",
    "neg_data = neg_data.replace({\"v_call\": { '02' : \"02-01\", '03' : \"03-01\", \"04\" : \"04-01\", \"05\" : \"05-01\", \"06\" : \"06-01\", \"07\" : \"07-01\", \"10\" : \"10-01\", \"15\" : \"15-01\", \"16\" : \"16-01\", \"17\" : \"17-01\", \"18\" : \"18-01\", \"19\" : \"19-01\", \"20\" : \"20-01\", \"21\" : \"21-01\", \"22\" : \"22-01\", \"24\" : \"24-01\", \"25\" : \"25-01\", \"27\" : \"27-01\", \"28\" : \"28-01\", \"30\" : \"30-01\", \"31\" : \"31-01\", \"32\" : \"32-01\", \"33\" : \"33-01\", \"34\" : \"34-01\", \"35\" : \"35-01\", \"37\" : \"37-01\", \"39\" : \"39-01\", \"40\" : \"40-01\", \"41\" : \"41-01\", \"46\" : \"46-01\"}})\n",
    "\n",
    "# Split off the V_family\n",
    "neg_data[['V_family','V_gene_1','V_gene_2']] = neg_data.v_call.str.split (\"-|/\",expand=True)\n",
    "\n",
    "# Fill V_family to 2 digits\n",
    "neg_data['V_family'] = neg_data['V_family'].str.zfill(2)\n",
    "# split gene and family, fill both to 2 digits\n",
    "neg_data[['V_1','V_2','V_3']] = neg_data.v_call.str.split (\"(-)\",expand=True)\n",
    "neg_data['V_1'] = neg_data['V_1'].str.zfill(2)\n",
    "neg_data['V_3'] = neg_data['V_3'].str.zfill(2)\n",
    "# Put family and gene back together\n",
    "neg_data = neg_data.assign(V = neg_data.V_1.astype(str) + neg_data.V_2.astype(str) + neg_data.V_3.astype(str))\n",
    "neg_data.replace('nan','',regex=True, inplace = True)\n",
    "\n",
    "# Delete rows without a gene\n",
    "# The third character of each V_gene is given, when this character is NaN, only the family is present and no info of the gene is present so the row is deleted\n",
    "neg_data['V_gene_present'] = neg_data['v_call'].str[2]\n",
    "neg_data = neg_data.loc[neg_data['V_gene_present'].str.contains(r'[NaN]') == False]\n",
    "\n",
    "# Delete columns which are no longer needed\n",
    "neg_data = neg_data.drop('V_gene_1',1)\n",
    "neg_data = neg_data.drop('V_gene_2',1)\n",
    "neg_data.head()"
   ]
  },
  {
   "cell_type": "code",
   "execution_count": 6,
   "metadata": {},
   "outputs": [
    {
     "name": "stdout",
     "output_type": "stream",
     "text": [
      "['C']\n"
     ]
    }
   ],
   "source": [
    "# See if CDR3 sequences start with C and end with F\n",
    "neg_data['CDR3_start'] = neg_data['CDR3'].str[0] \n",
    "neg_data['CDR3_end'] = neg_data['CDR3'].str[-1]\n",
    "# Remove rows with CDR3 sequences which do not start with a C and end with a F or W\n",
    "neg_data = neg_data.loc[neg_data['CDR3_end'].str.contains(r'[F,W]') == True]\n",
    "neg_data = neg_data.loc[neg_data['CDR3_start'].str.contains(r'[C]') == True]\n",
    "\n",
    "# CDR3 sequences with unknown Aminoacids, weird characters, no CDR3 sequence present and lowercase AA are removed \n",
    "weird_characters = [r'[_]',r'[*]',r'[(]',r'[)]',r'[NaN]',r'[a-z]']\n",
    "for char in weird_characters:\n",
    "    neg_data = neg_data.loc[neg_data['CDR3'].str.contains(char) == False]\n",
    "\n",
    "start = neg_data['CDR3_start'].unique()\n",
    "print(start)"
   ]
  },
  {
   "cell_type": "code",
   "execution_count": 7,
   "metadata": {},
   "outputs": [
    {
     "name": "stdout",
     "output_type": "stream",
     "text": [
      "['F' 'W']\n"
     ]
    }
   ],
   "source": [
    "end = neg_data['CDR3_end'].unique()\n",
    "print(end)"
   ]
  },
  {
   "cell_type": "code",
   "execution_count": 9,
   "metadata": {},
   "outputs": [
    {
     "data": {
      "text/html": [
       "<div>\n",
       "<style scoped>\n",
       "    .dataframe tbody tr th:only-of-type {\n",
       "        vertical-align: middle;\n",
       "    }\n",
       "\n",
       "    .dataframe tbody tr th {\n",
       "        vertical-align: top;\n",
       "    }\n",
       "\n",
       "    .dataframe thead th {\n",
       "        text-align: right;\n",
       "    }\n",
       "</style>\n",
       "<table border=\"1\" class=\"dataframe\">\n",
       "  <thead>\n",
       "    <tr style=\"text-align: right;\">\n",
       "      <th></th>\n",
       "      <th>CDR3</th>\n",
       "      <th>Epitope</th>\n",
       "      <th>Gene</th>\n",
       "      <th>J_gene</th>\n",
       "      <th>V_family</th>\n",
       "      <th>V_gene</th>\n",
       "    </tr>\n",
       "  </thead>\n",
       "  <tbody>\n",
       "    <tr>\n",
       "      <th>6</th>\n",
       "      <td>CAGGISSGSARQLTF</td>\n",
       "      <td>Control</td>\n",
       "      <td>TRA</td>\n",
       "      <td>22</td>\n",
       "      <td>25</td>\n",
       "      <td>25-01</td>\n",
       "    </tr>\n",
       "    <tr>\n",
       "      <th>11</th>\n",
       "      <td>CAVERGTSGSRLTF</td>\n",
       "      <td>Control</td>\n",
       "      <td>TRA</td>\n",
       "      <td>58</td>\n",
       "      <td>36</td>\n",
       "      <td>36/DV7</td>\n",
       "    </tr>\n",
       "    <tr>\n",
       "      <th>15</th>\n",
       "      <td>CATDAEGTYKYIF</td>\n",
       "      <td>Control</td>\n",
       "      <td>TRA</td>\n",
       "      <td>40</td>\n",
       "      <td>17</td>\n",
       "      <td>17-01</td>\n",
       "    </tr>\n",
       "    <tr>\n",
       "      <th>16</th>\n",
       "      <td>CAATQGGSEKLVF</td>\n",
       "      <td>Control</td>\n",
       "      <td>TRA</td>\n",
       "      <td>57</td>\n",
       "      <td>25</td>\n",
       "      <td>25-01</td>\n",
       "    </tr>\n",
       "    <tr>\n",
       "      <th>17</th>\n",
       "      <td>CALSSLSGTYKYIF</td>\n",
       "      <td>Control</td>\n",
       "      <td>TRA</td>\n",
       "      <td>40</td>\n",
       "      <td>19</td>\n",
       "      <td>19-01</td>\n",
       "    </tr>\n",
       "  </tbody>\n",
       "</table>\n",
       "</div>"
      ],
      "text/plain": [
       "               CDR3  Epitope Gene J_gene V_family  V_gene\n",
       "6   CAGGISSGSARQLTF  Control  TRA     22       25   25-01\n",
       "11   CAVERGTSGSRLTF  Control  TRA     58       36  36/DV7\n",
       "15    CATDAEGTYKYIF  Control  TRA     40       17   17-01\n",
       "16    CAATQGGSEKLVF  Control  TRA     57       25   25-01\n",
       "17   CALSSLSGTYKYIF  Control  TRA     40       19   19-01"
      ]
     },
     "execution_count": 9,
     "metadata": {},
     "output_type": "execute_result"
    }
   ],
   "source": [
    "# column V is renamed to V_gene, so the name of this columns is the same in all datafiles\n",
    "neg_data = neg_data.rename(columns={'V': 'V_gene'})\n",
    "# The Epitope column added, all apitopes are named 'Control'\n",
    "neg_data['Epitope']= 'Control'\n",
    "# Delete columns which are no longer needed in further steps\n",
    "neg_data = neg_data[['CDR3', 'Epitope', 'Gene', 'J_gene', 'V_family', 'V_gene']]\n",
    "\n",
    "neg_data = neg_data[sorted(neg_data.columns)]\n",
    "neg_data.head()"
   ]
  },
  {
   "cell_type": "code",
   "execution_count": 10,
   "metadata": {},
   "outputs": [
    {
     "name": "stdout",
     "output_type": "stream",
     "text": [
      "['25-01' '36/DV7' '17-01' '19-01' '10-01' '02-01' '20-01' '04-01' '03-01'\n",
      " '13-01' '06-01' '13-02' '26-02' '41-01' '26-01' '05-01' '27-01' '38-01'\n",
      " '29/DV5' '12-01' '08-01' '12-02' '21-01' '34-01' '16-01' '12-03' '30-01'\n",
      " '14/DV4' '39-01' '23/DV6' '35-01' '01-02' '38-2/DV8' '08-03' '08-06'\n",
      " '09-02' '40-01' '08-04' '01-01' '22-01' '24-01' '08-02' '18-01' '09-01'\n",
      " '07-01' '08-07']\n"
     ]
    }
   ],
   "source": [
    "V_gene = neg_data['V_gene'].unique()\n",
    "print(V_gene)"
   ]
  },
  {
   "cell_type": "code",
   "execution_count": 14,
   "metadata": {},
   "outputs": [
    {
     "data": {
      "text/plain": [
       "(77880, 6)"
      ]
     },
     "execution_count": 14,
     "metadata": {},
     "output_type": "execute_result"
    }
   ],
   "source": [
    "neg_data.shape"
   ]
  },
  {
   "cell_type": "code",
   "execution_count": 12,
   "metadata": {},
   "outputs": [],
   "source": [
    "neg_data.to_csv('parsed_neg.csv', index=False, sep=\",\")"
   ]
  },
  {
   "cell_type": "code",
   "execution_count": 13,
   "metadata": {},
   "outputs": [
    {
     "name": "stdout",
     "output_type": "stream",
     "text": [
      "Finished\n"
     ]
    }
   ],
   "source": [
    "print('Finished')"
   ]
  },
  {
   "cell_type": "code",
   "execution_count": null,
   "metadata": {},
   "outputs": [],
   "source": []
  }
 ],
 "metadata": {
  "kernelspec": {
   "display_name": "Python [conda env:RL]",
   "language": "python",
   "name": "conda-env-RL-py"
  },
  "language_info": {
   "codemirror_mode": {
    "name": "ipython",
    "version": 3
   },
   "file_extension": ".py",
   "mimetype": "text/x-python",
   "name": "python",
   "nbconvert_exporter": "python",
   "pygments_lexer": "ipython3",
   "version": "3.7.9"
  }
 },
 "nbformat": 4,
 "nbformat_minor": 4
}
