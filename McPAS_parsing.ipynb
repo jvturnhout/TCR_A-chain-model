{
 "cells": [
  {
   "cell_type": "markdown",
   "metadata": {},
   "source": [
    "## Parsing of the McPAS data\n",
    "\n",
    "data from the McPAS database collected on December 14, 2020 is parsed in this file using the following steps:\n",
    "* Duplicate rows are removed\n",
    "* Rows with missing values in one of the columns are removed\n",
    "* Methods where mouse strains were used are removed\n",
    "* CDR3 sequences with non-amino acid characters are removed\n",
    "* CDR3 sequences not starting with 'C' or ending with 'F' or 'W' are removed because these amino acids are conserved residues\n",
    "* The V and J columns were checked to see if they contained values not present in the IMGT database, entries not present in the IMGT db are removed\n",
    "* The J gene is split of the gene columns and the 'TRAJ' identifier and J allele are removed\n",
    "* J gene is filled to 2 characters by adding a 0 at the front if there is only one character present\n",
    "* The V column is split in a V family and V gene column, the 'TRAV' identifier and V allele are removed\n",
    "* The V gene was added to V families with only 1 possible V gene because they were not always given in the db\n",
    "* Both V family and gene are filled to 2 characters, like the J gene column"
   ]
  },
  {
   "cell_type": "code",
   "execution_count": 1,
   "metadata": {},
   "outputs": [],
   "source": [
    "import pandas as pd"
   ]
  },
  {
   "cell_type": "code",
   "execution_count": 22,
   "metadata": {},
   "outputs": [
    {
     "data": {
      "text/html": [
       "<div>\n",
       "<style scoped>\n",
       "    .dataframe tbody tr th:only-of-type {\n",
       "        vertical-align: middle;\n",
       "    }\n",
       "\n",
       "    .dataframe tbody tr th {\n",
       "        vertical-align: top;\n",
       "    }\n",
       "\n",
       "    .dataframe thead th {\n",
       "        text-align: right;\n",
       "    }\n",
       "</style>\n",
       "<table border=\"1\" class=\"dataframe\">\n",
       "  <thead>\n",
       "    <tr style=\"text-align: right;\">\n",
       "      <th></th>\n",
       "      <th>CDR3</th>\n",
       "      <th>Species</th>\n",
       "      <th>antigen_identification_method</th>\n",
       "      <th>Epitope</th>\n",
       "      <th>V</th>\n",
       "      <th>J</th>\n",
       "      <th>Mouse_strain</th>\n",
       "      <th>Gene</th>\n",
       "    </tr>\n",
       "  </thead>\n",
       "  <tbody>\n",
       "    <tr>\n",
       "      <th>0</th>\n",
       "      <td>CAVTIGFGNVLHCGSGTQVIVLPHIQ</td>\n",
       "      <td>Human</td>\n",
       "      <td>2.4</td>\n",
       "      <td>EAAGIGILTV</td>\n",
       "      <td>TRAV2</td>\n",
       "      <td>TRAJ35</td>\n",
       "      <td>NaN</td>\n",
       "      <td>TRA</td>\n",
       "    </tr>\n",
       "    <tr>\n",
       "      <th>1</th>\n",
       "      <td>CASGGGADGLTFPYIQF</td>\n",
       "      <td>Human</td>\n",
       "      <td>2.4</td>\n",
       "      <td>EAAGIGILTV</td>\n",
       "      <td>TRAV2</td>\n",
       "      <td>TRAJ45</td>\n",
       "      <td>NaN</td>\n",
       "      <td>TRA</td>\n",
       "    </tr>\n",
       "    <tr>\n",
       "      <th>2</th>\n",
       "      <td>CAASPPESGGYNKLIF</td>\n",
       "      <td>Human</td>\n",
       "      <td>2.4</td>\n",
       "      <td>EAAGIGILTV</td>\n",
       "      <td>TRAV21</td>\n",
       "      <td>TRAJ4</td>\n",
       "      <td>NaN</td>\n",
       "      <td>TRA</td>\n",
       "    </tr>\n",
       "    <tr>\n",
       "      <th>3</th>\n",
       "      <td>CAAYYGGSOGNLIF</td>\n",
       "      <td>Human</td>\n",
       "      <td>2.4</td>\n",
       "      <td>EAAGIGILTV</td>\n",
       "      <td>TRAV21</td>\n",
       "      <td>TRAJ42</td>\n",
       "      <td>NaN</td>\n",
       "      <td>TRA</td>\n",
       "    </tr>\n",
       "    <tr>\n",
       "      <th>4</th>\n",
       "      <td>CAVSRGGGADGLTF</td>\n",
       "      <td>Human</td>\n",
       "      <td>2.4</td>\n",
       "      <td>EAAGIGILTV</td>\n",
       "      <td>TRAV2</td>\n",
       "      <td>TRAJ45</td>\n",
       "      <td>NaN</td>\n",
       "      <td>TRA</td>\n",
       "    </tr>\n",
       "  </tbody>\n",
       "</table>\n",
       "</div>"
      ],
      "text/plain": [
       "                         CDR3 Species  antigen_identification_method  \\\n",
       "0  CAVTIGFGNVLHCGSGTQVIVLPHIQ   Human                            2.4   \n",
       "1           CASGGGADGLTFPYIQF   Human                            2.4   \n",
       "2            CAASPPESGGYNKLIF   Human                            2.4   \n",
       "3              CAAYYGGSOGNLIF   Human                            2.4   \n",
       "4              CAVSRGGGADGLTF   Human                            2.4   \n",
       "\n",
       "      Epitope       V       J Mouse_strain Gene  \n",
       "0  EAAGIGILTV   TRAV2  TRAJ35          NaN  TRA  \n",
       "1  EAAGIGILTV   TRAV2  TRAJ45          NaN  TRA  \n",
       "2  EAAGIGILTV  TRAV21   TRAJ4          NaN  TRA  \n",
       "3  EAAGIGILTV  TRAV21  TRAJ42          NaN  TRA  \n",
       "4  EAAGIGILTV   TRAV2  TRAJ45          NaN  TRA  "
      ]
     },
     "execution_count": 22,
     "metadata": {},
     "output_type": "execute_result"
    }
   ],
   "source": [
    "# The same steps as for the VDJdb data are followed for the McPAS data (downloaded on December 14)\n",
    "McPAS_data = pd.read_csv(\"McPAS_data.csv\")\n",
    "McPAS_data = McPAS_data.drop_duplicates()\n",
    "McPAS_data.head()"
   ]
  },
  {
   "cell_type": "code",
   "execution_count": 23,
   "metadata": {},
   "outputs": [
    {
     "name": "stdout",
     "output_type": "stream",
     "text": [
      "[nan 'C57/BL6']\n"
     ]
    }
   ],
   "source": [
    "strain = McPAS_data['Mouse_strain'].unique()\n",
    "method = McPAS_data['antigen_identification_method'].unique()\n",
    "print(strain)"
   ]
  },
  {
   "cell_type": "code",
   "execution_count": 24,
   "metadata": {},
   "outputs": [
    {
     "name": "stdout",
     "output_type": "stream",
     "text": [
      "[2.4 2.1 1. ]\n"
     ]
    }
   ],
   "source": [
    "print(method) # 2.4 = Stimulation with tumor cells, 2.1 = Stimulation with a peptide, 1 = Peptide-MHC (pMHC) tetramers"
   ]
  },
  {
   "cell_type": "code",
   "execution_count": 25,
   "metadata": {},
   "outputs": [],
   "source": [
    "# identification methods where stimulation with tumor cells were used are removed.\n",
    "McPAS_data = McPAS_data[McPAS_data.antigen_identification_method != 2.4]"
   ]
  },
  {
   "cell_type": "code",
   "execution_count": 26,
   "metadata": {},
   "outputs": [],
   "source": [
    "McPAS_data = McPAS_data[McPAS_data.Mouse_strain != \"C57/BL6\"] # methods where mouse strains are used are removed"
   ]
  },
  {
   "cell_type": "code",
   "execution_count": 27,
   "metadata": {},
   "outputs": [
    {
     "name": "stdout",
     "output_type": "stream",
     "text": [
      "['Human']\n"
     ]
    }
   ],
   "source": [
    "Species = McPAS_data['Species'].unique() # see if all data is for human \n",
    "print(Species)"
   ]
  },
  {
   "cell_type": "code",
   "execution_count": 28,
   "metadata": {},
   "outputs": [
    {
     "name": "stdout",
     "output_type": "stream",
     "text": [
      "['TRAJ5-1' 'TRAJ15' 'TRAJ9' 'TRAJ2' 'TRAJ5' 'TRAJ45' 'TRAJ49' 'TRAJ54'\n",
      " 'TRAJ21' 'TRAJ39' 'TRAJ53' 'TRAJ40' 'TRAJ42' 'TRAJ36' 'TRAJ38' 'TRAJ26'\n",
      " 'TRAJ3' 'TRAJ37' 'TRAJ11' 'TRAJ31' 'TRAJ34' 'TRAJ23' 'TRAJ16' 'TRAJ1-3'\n",
      " 'TRAJ9-1' 'TRAJ16-5' 'TRAJ1-8' 'TRAJ10-1' 'TRAJ3-2' 'TRAJ9-14' 'TRAJ14-1'\n",
      " 'TRAJ16-1' 'TRAJ33' 'TRAJ52' 'TRAJ47' 'TRAJ44' 'TRAJ43' 'TRAJ50' 'TRAJ20'\n",
      " 'TRAJ58' 'TRAJ35' 'TRAJ6' 'TRAJ48' 'TRAJ57' 'TRAJ8' 'TRAJ13' 'TRAJ4'\n",
      " 'TRAJ29' 'TRAJ27' 'TRAJ30' 'TRAJ32' 'TRAJ10' 'TRAJ24' 'TRAJ7' 'TRAJ28'\n",
      " 'TRAJ56' 'TRAJ37-2' 'TRAJ41' 'TRAJ17' 'TRAJ22' 'TRAJ12' 'TRAJ4-01'\n",
      " 'TRAJ5-01' 'TRAJ3-01' 'TRAJ1-01' 'TRAJ2-01' 'TRAJ9-01' 'TRAJ13:02'\n",
      " 'TRAJ6-01' 'TRAJ49:01' 'TRAJ20:01' 'TRAJ42:01' 'TRAJ24:01' 'TRAJ21:01'\n",
      " 'TRAJ7:01' 'TRAJ39:01' 'TRAJ36:01' 'TRAJ54:01' 'TRAJ16:01' 'TRAJ58:01'\n",
      " 'TRAJ18' 'TRAJ53:01' 'TRAJ53:02' 'TRAJ53:05' 'TRAJ43:01' 'TRAJ2-1'\n",
      " 'TRAJ41:01' 'TRAJ3-1' 'TRAJ34:01' 'TRAJ31:01' 'TRAJ44:01' 'TRAJ38:01'\n",
      " 'TRAJ24:02' 'TRAJ17:01' 'TRAJ48:01' 'TRAJ9:01' 'TRAJ18:01' 'TRAJ52:01'\n",
      " 'TRAJ56:01' 'TRAJ45:01' 'TRAJ3:01' 'TRAJ11:01' 'TRAJ27:01' 'TRAJ57:01'\n",
      " 'TRAJ6:01' 'TRAJ32:02' 'TRAJ22:01' 'TRAJ10:01' 'TRAJ32:01' 'TRAJ5:01'\n",
      " 'TRAJ37:02' 'TRAJ26:01' 'TRAJ47-1' 'TRAJ20-1' 'TRAJ24-1' 'TRAJ32-1'\n",
      " 'TRAJ44-1' 'TRAJ4-1' 'TRAJ37-1' 'TRAJ34-1' 'TRAJ21-1' 'TRAJ33-1'\n",
      " 'TRAJ45-1' 'TRAJ54-1' 'TRAJ17-1' 'TRAJ42-1' 'TRAJ28-1' 'TRAJ40-1'\n",
      " 'TRAJ31-1']\n"
     ]
    }
   ],
   "source": [
    "TRAJ = McPAS_data['J'].unique()\n",
    "TRAV = McPAS_data['V'].unique()\n",
    "print(TRAJ)"
   ]
  },
  {
   "cell_type": "code",
   "execution_count": 29,
   "metadata": {},
   "outputs": [
    {
     "name": "stdout",
     "output_type": "stream",
     "text": [
      "['TRAV2' 'TRAV8-2' 'TRAV3' 'TRAV9' 'TRAV1-1' 'TRAV25' 'TRAV1-4' 'TRAV1-2'\n",
      " 'TRAV28' 'TRAV16' 'TRAV2-1' 'TRAV21' 'TRAV26' 'TRAV15' 'TRAV12-1'\n",
      " 'TRAV2-3' 'TRAV4-1' 'TRAV15-1' 'TRAV39' 'TRAV22' 'TRAV26-2' 'TRAV8-3'\n",
      " 'TRAV18' 'TRAV4' 'TRAV23' 'TRAV27' 'TRAV19' 'TRAV2-2' 'TRAV6' 'TRAV12'\n",
      " 'TRAV5' 'TRAV14' 'TRAV8' 'TRAV9-2' 'TRAV1' 'TRAV11' 'TRAV1-01' 'TRAV13-1'\n",
      " 'TRAV8-4' 'TRAV8-6' 'TRAV251' 'TRAV17' 'TRAV40' 'TRAV12-2' 'TRAV21-1'\n",
      " 'TRAV13-2' 'TRAV8-1' 'TRAV26-1' 'TRAV21-2' 'TRAV3-1' 'TRAV35-1'\n",
      " 'TRAV29/DV5' 'TRAV14/DV4' 'TRAV20' 'TRAV24' 'TRAV23/DV6' 'TRAV10'\n",
      " 'TRAV12-3' 'TRAV2-01' 'TRAV35:01' 'TRAV12-3:01' 'TRAV25:01' 'TRAV3-01'\n",
      " 'TRAV10-01' 'TRAV1-2:01' 'TRAV38-2/DV8:01' 'TRAV13-2:01' 'TRAV29/DV5:01'\n",
      " 'TRAV5-01' 'TRAV23/DV6:01' 'TRAV6-01' 'TRAV9-2:01' 'TRAV14/DV4:01'\n",
      " 'TRAV41:01' 'TRAV38-1:01' 'TRAV14/DV4:02' 'TRAV8-1:01' 'TRAV12-2:01'\n",
      " 'TRAV22:01' 'TRAV8-6:01' 'TRAV8-3:01' 'TRAV41-01' 'TRAV8-2:01'\n",
      " 'TRAV21-01' 'TRAV8-6:02' 'TRAV1-1:01' 'TRAV26-2:01' 'TRAV8-4:01'\n",
      " 'TRAV4:01' 'TRAV36/DV7:01' 'TRAV12-1:01' 'TRAV13-1:01' 'TRAV24:01'\n",
      " 'TRAV5:01' 'TRAV3:01' 'TRAV38-2' 'TRAV35' 'TRAV20:02' 'TRAV26-1:01'\n",
      " 'TRAV6:02' 'TRAV19:01' 'TRAV38-1' 'TRAV38-2/DV8' 'TRAV41' 'TRAV30'\n",
      " 'TRAV36/DV7' 'TRAV34' 'TRAV7' 'TRAV29/DV5:02' 'TRAV29/DV5:05' 'TRAV17:01'\n",
      " 'TRAV16:01' 'TRAV6:03' 'TRAV26-1:03' 'TRAV27:01' 'TRAV24:01/TRAV24:02'\n",
      " 'TRAV24:01,' 'TRAV24:02' 'TRAV9-1' 'mTRAV14D-1']\n"
     ]
    }
   ],
   "source": [
    "print(TRAV)"
   ]
  },
  {
   "cell_type": "code",
   "execution_count": 30,
   "metadata": {},
   "outputs": [
    {
     "data": {
      "text/html": [
       "<div>\n",
       "<style scoped>\n",
       "    .dataframe tbody tr th:only-of-type {\n",
       "        vertical-align: middle;\n",
       "    }\n",
       "\n",
       "    .dataframe tbody tr th {\n",
       "        vertical-align: top;\n",
       "    }\n",
       "\n",
       "    .dataframe thead th {\n",
       "        text-align: right;\n",
       "    }\n",
       "</style>\n",
       "<table border=\"1\" class=\"dataframe\">\n",
       "  <thead>\n",
       "    <tr style=\"text-align: right;\">\n",
       "      <th></th>\n",
       "      <th>CDR3</th>\n",
       "      <th>Species</th>\n",
       "      <th>antigen_identification_method</th>\n",
       "      <th>Epitope</th>\n",
       "      <th>V</th>\n",
       "      <th>Mouse_strain</th>\n",
       "      <th>Gene</th>\n",
       "      <th>J_gene</th>\n",
       "    </tr>\n",
       "  </thead>\n",
       "  <tbody>\n",
       "    <tr>\n",
       "      <th>11</th>\n",
       "      <td>CASPDAGGTSYGKLT</td>\n",
       "      <td>Human</td>\n",
       "      <td>2.1</td>\n",
       "      <td>SAYGEPRKL</td>\n",
       "      <td>TRAV2</td>\n",
       "      <td>NaN</td>\n",
       "      <td>TRA</td>\n",
       "      <td>05</td>\n",
       "    </tr>\n",
       "    <tr>\n",
       "      <th>12</th>\n",
       "      <td>CAAPQAGTALIF</td>\n",
       "      <td>Human</td>\n",
       "      <td>2.1</td>\n",
       "      <td>AARAVFLAL</td>\n",
       "      <td>TRAV8-2</td>\n",
       "      <td>NaN</td>\n",
       "      <td>TRA</td>\n",
       "      <td>15</td>\n",
       "    </tr>\n",
       "    <tr>\n",
       "      <th>13</th>\n",
       "      <td>CTDVSTGGFKTIF</td>\n",
       "      <td>Human</td>\n",
       "      <td>2.1</td>\n",
       "      <td>AARAVFLAL</td>\n",
       "      <td>TRAV3</td>\n",
       "      <td>NaN</td>\n",
       "      <td>TRA</td>\n",
       "      <td>09</td>\n",
       "    </tr>\n",
       "    <tr>\n",
       "      <th>14</th>\n",
       "      <td>CTDLNTGGFKTIF</td>\n",
       "      <td>Human</td>\n",
       "      <td>2.1</td>\n",
       "      <td>AARAVFLAL</td>\n",
       "      <td>TRAV3</td>\n",
       "      <td>NaN</td>\n",
       "      <td>TRA</td>\n",
       "      <td>09</td>\n",
       "    </tr>\n",
       "    <tr>\n",
       "      <th>15</th>\n",
       "      <td>CVVKKNNTDKLIF</td>\n",
       "      <td>Human</td>\n",
       "      <td>2.1</td>\n",
       "      <td>EAAGIGILTV</td>\n",
       "      <td>TRAV2</td>\n",
       "      <td>NaN</td>\n",
       "      <td>TRA</td>\n",
       "      <td>02</td>\n",
       "    </tr>\n",
       "  </tbody>\n",
       "</table>\n",
       "</div>"
      ],
      "text/plain": [
       "               CDR3 Species  antigen_identification_method     Epitope  \\\n",
       "11  CASPDAGGTSYGKLT   Human                            2.1   SAYGEPRKL   \n",
       "12     CAAPQAGTALIF   Human                            2.1   AARAVFLAL   \n",
       "13    CTDVSTGGFKTIF   Human                            2.1   AARAVFLAL   \n",
       "14    CTDLNTGGFKTIF   Human                            2.1   AARAVFLAL   \n",
       "15    CVVKKNNTDKLIF   Human                            2.1  EAAGIGILTV   \n",
       "\n",
       "          V  Mouse_strain Gene J_gene  \n",
       "11    TRAV2           NaN  TRA     05  \n",
       "12  TRAV8-2           NaN  TRA     15  \n",
       "13    TRAV3           NaN  TRA     09  \n",
       "14    TRAV3           NaN  TRA     09  \n",
       "15    TRAV2           NaN  TRA     02  "
      ]
     },
     "execution_count": 30,
     "metadata": {},
     "output_type": "execute_result"
    }
   ],
   "source": [
    "# Parsing of the J-column\n",
    "# In the first step the 'TRAJ' classifier is removed\n",
    "McPAS_data.replace('TRAJ','',regex=True, inplace = True)\n",
    "# In the second step the J_allele is splitsed from the J_gene based on the * character, the J_allele is then removed as it is not needed in downstream steps\n",
    "McPAS_data[['J_gene','J_allele_1']] = McPAS_data.J.str.split (\"-\",expand=True)\n",
    "McPAS_data[['J_gene','J_allele_2']] = McPAS_data.J_gene.str.split (\":\",expand=True)\n",
    "McPAS_data = McPAS_data.drop('J',1)\n",
    "McPAS_data = McPAS_data.drop('J_allele_1',1)\n",
    "McPAS_data = McPAS_data.drop('J_allele_2',1)\n",
    "# add a leading 0 to all families with only one digit so the length of each all classifiers are the same\n",
    "McPAS_data['J_gene'] = McPAS_data['J_gene'].str.zfill(2)\n",
    "McPAS_data.head()"
   ]
  },
  {
   "cell_type": "code",
   "execution_count": 31,
   "metadata": {},
   "outputs": [
    {
     "data": {
      "text/html": [
       "<div>\n",
       "<style scoped>\n",
       "    .dataframe tbody tr th:only-of-type {\n",
       "        vertical-align: middle;\n",
       "    }\n",
       "\n",
       "    .dataframe tbody tr th {\n",
       "        vertical-align: top;\n",
       "    }\n",
       "\n",
       "    .dataframe thead th {\n",
       "        text-align: right;\n",
       "    }\n",
       "</style>\n",
       "<table border=\"1\" class=\"dataframe\">\n",
       "  <thead>\n",
       "    <tr style=\"text-align: right;\">\n",
       "      <th></th>\n",
       "      <th>CDR3</th>\n",
       "      <th>Species</th>\n",
       "      <th>antigen_identification_method</th>\n",
       "      <th>Epitope</th>\n",
       "      <th>V_gene</th>\n",
       "      <th>Mouse_strain</th>\n",
       "      <th>Gene</th>\n",
       "      <th>J_gene</th>\n",
       "      <th>V_family</th>\n",
       "      <th>V_1</th>\n",
       "      <th>V_2</th>\n",
       "      <th>V_3</th>\n",
       "      <th>V_gene_present</th>\n",
       "    </tr>\n",
       "  </thead>\n",
       "  <tbody>\n",
       "    <tr>\n",
       "      <th>11</th>\n",
       "      <td>CASPDAGGTSYGKLT</td>\n",
       "      <td>Human</td>\n",
       "      <td>2.1</td>\n",
       "      <td>SAYGEPRKL</td>\n",
       "      <td>02-01</td>\n",
       "      <td>NaN</td>\n",
       "      <td>TRA</td>\n",
       "      <td>05</td>\n",
       "      <td>02</td>\n",
       "      <td>02</td>\n",
       "      <td>-</td>\n",
       "      <td>01</td>\n",
       "      <td>-</td>\n",
       "    </tr>\n",
       "    <tr>\n",
       "      <th>12</th>\n",
       "      <td>CAAPQAGTALIF</td>\n",
       "      <td>Human</td>\n",
       "      <td>2.1</td>\n",
       "      <td>AARAVFLAL</td>\n",
       "      <td>08-02</td>\n",
       "      <td>NaN</td>\n",
       "      <td>TRA</td>\n",
       "      <td>15</td>\n",
       "      <td>08</td>\n",
       "      <td>08</td>\n",
       "      <td>-</td>\n",
       "      <td>02</td>\n",
       "      <td>-</td>\n",
       "    </tr>\n",
       "    <tr>\n",
       "      <th>13</th>\n",
       "      <td>CTDVSTGGFKTIF</td>\n",
       "      <td>Human</td>\n",
       "      <td>2.1</td>\n",
       "      <td>AARAVFLAL</td>\n",
       "      <td>03-01</td>\n",
       "      <td>NaN</td>\n",
       "      <td>TRA</td>\n",
       "      <td>09</td>\n",
       "      <td>03</td>\n",
       "      <td>03</td>\n",
       "      <td>-</td>\n",
       "      <td>01</td>\n",
       "      <td>-</td>\n",
       "    </tr>\n",
       "    <tr>\n",
       "      <th>14</th>\n",
       "      <td>CTDLNTGGFKTIF</td>\n",
       "      <td>Human</td>\n",
       "      <td>2.1</td>\n",
       "      <td>AARAVFLAL</td>\n",
       "      <td>03-01</td>\n",
       "      <td>NaN</td>\n",
       "      <td>TRA</td>\n",
       "      <td>09</td>\n",
       "      <td>03</td>\n",
       "      <td>03</td>\n",
       "      <td>-</td>\n",
       "      <td>01</td>\n",
       "      <td>-</td>\n",
       "    </tr>\n",
       "    <tr>\n",
       "      <th>15</th>\n",
       "      <td>CVVKKNNTDKLIF</td>\n",
       "      <td>Human</td>\n",
       "      <td>2.1</td>\n",
       "      <td>EAAGIGILTV</td>\n",
       "      <td>02-01</td>\n",
       "      <td>NaN</td>\n",
       "      <td>TRA</td>\n",
       "      <td>02</td>\n",
       "      <td>02</td>\n",
       "      <td>02</td>\n",
       "      <td>-</td>\n",
       "      <td>01</td>\n",
       "      <td>-</td>\n",
       "    </tr>\n",
       "  </tbody>\n",
       "</table>\n",
       "</div>"
      ],
      "text/plain": [
       "               CDR3 Species  antigen_identification_method     Epitope V_gene  \\\n",
       "11  CASPDAGGTSYGKLT   Human                            2.1   SAYGEPRKL  02-01   \n",
       "12     CAAPQAGTALIF   Human                            2.1   AARAVFLAL  08-02   \n",
       "13    CTDVSTGGFKTIF   Human                            2.1   AARAVFLAL  03-01   \n",
       "14    CTDLNTGGFKTIF   Human                            2.1   AARAVFLAL  03-01   \n",
       "15    CVVKKNNTDKLIF   Human                            2.1  EAAGIGILTV  02-01   \n",
       "\n",
       "    Mouse_strain Gene J_gene V_family V_1 V_2 V_3 V_gene_present  \n",
       "11           NaN  TRA     05       02  02   -  01              -  \n",
       "12           NaN  TRA     15       08  08   -  02              -  \n",
       "13           NaN  TRA     09       03  03   -  01              -  \n",
       "14           NaN  TRA     09       03  03   -  01              -  \n",
       "15           NaN  TRA     02       02  02   -  01              -  "
      ]
     },
     "execution_count": 31,
     "metadata": {},
     "output_type": "execute_result"
    }
   ],
   "source": [
    "# Parsing of the V-column, in the first step the 'trav' classifier is removed\n",
    "McPAS_data = McPAS_data[~McPAS_data['V'].isin(['mTRAV14D-1','TRAV251'])]\n",
    "# This identifier was changed because it caused some problems during further parsing, but it has no effect on the further steps since the allele is dropped\n",
    "McPAS_data = McPAS_data.replace({\"V\": { 'TRAV24:01/TRAV24:02' : \"TRAV24\"}})\n",
    "McPAS_data.replace('TRAV','',regex=True, inplace = True)\n",
    "\n",
    "# In the second step the allele is split from the gene and family, by using the : character \n",
    "McPAS_data[['V','V_allele']] = McPAS_data.V.str.split(\":\",expand=True)\n",
    "McPAS_data = McPAS_data.drop('V_allele',1)\n",
    "\n",
    "# All families where only one gene is possible are supplemented with the gene, because they are not always given in the database\n",
    "McPAS_data['V'] = McPAS_data['V'].str.zfill(2)\n",
    "McPAS_data = McPAS_data.replace({\"V\": { '02' : \"02-01\", '03' : \"03-01\", \"04\" : \"04-01\", \"05\" : \"05-01\", \"06\" : \"06-01\", \"07\" : \"07-01\", \"10\" : \"10-01\", \"15\" : \"15-01\", \"16\" : \"16-01\", \"17\" : \"17-01\", \"18\" : \"18-01\", \"19\" : \"19-01\", \"20\" : \"20-01\", \"21\" : \"21-01\", \"22\" : \"22-01\", \"24\" : \"24-01\", \"25\" : \"25-01\", \"27\" : \"27-01\", \"28\" : \"28-01\", \"30\" : \"30-01\", \"31\" : \"31-01\", \"32\" : \"32-01\", \"33\" : \"33-01\", \"34\" : \"34-01\", \"35\" : \"35-01\", \"37\" : \"37-01\", \"39\" : \"39-01\", \"40\" : \"40-01\", \"41\" : \"41-01\", \"46\" : \"46-01\"}})\n",
    "\n",
    "# Split off the V_family\n",
    "McPAS_data[['V_family','V_gene_1','V_gene_2']] = McPAS_data.V.str.split (\"-|/\",expand=True)\n",
    "\n",
    "# Fill V_family to 2 digits\n",
    "McPAS_data['V_family'] = McPAS_data['V_family'].str.zfill(2)\n",
    "# split gene and family, fill both to 2 digits\n",
    "McPAS_data[['V_1','V_2','V_3']] = McPAS_data.V.str.split (\"(-)\",expand=True)\n",
    "McPAS_data['V_1'] = McPAS_data['V_1'].str.zfill(2)\n",
    "McPAS_data['V_3'] = McPAS_data['V_3'].str.zfill(2)\n",
    "# Put family and gene back together\n",
    "McPAS_data = McPAS_data.assign(V = McPAS_data.V_1.astype(str) + McPAS_data.V_2.astype(str) + McPAS_data.V_3.astype(str))\n",
    "McPAS_data.replace('nan','',regex=True, inplace = True)\n",
    "\n",
    "# Delete rows without a gene\n",
    "# The third character of each V_gene is given, when this character is NaN, only the family is present and no info of the gene is present so the row is deleted\n",
    "McPAS_data['V_gene_present'] = McPAS_data['V'].str[2]\n",
    "McPAS_data = McPAS_data.loc[McPAS_data['V_gene_present'].str.contains(r'[NaN]') == False]\n",
    "\n",
    "# Delete columns which are no longer needed\n",
    "McPAS_data = McPAS_data.drop('V_gene_1',1)\n",
    "McPAS_data = McPAS_data.drop('V_gene_2',1)\n",
    "# column V is renamed to V_gene, so the name of this columns is the same in all datafiles\n",
    "McPAS_data = McPAS_data.rename(columns={'V': 'V_gene'})\n",
    "McPAS_data.head()"
   ]
  },
  {
   "cell_type": "code",
   "execution_count": 32,
   "metadata": {},
   "outputs": [
    {
     "name": "stdout",
     "output_type": "stream",
     "text": [
      "['02-01' '08-02' '03-01' '01-01' '25-01' '01-04' '01-02' '28-01' '16-01'\n",
      " '21-01' '15-01' '12-01' '02-03' '04-01' '39-01' '22-01' '26-02' '08-03'\n",
      " '18-01' '27-01' '19-01' '02-02' '06-01' '05-01' '09-02' '13-01' '08-04'\n",
      " '08-06' '17-01' '40-01' '12-02' '13-02' '08-01' '26-01' '21-02' '35-01'\n",
      " '29/DV5' '14/DV4' '20-01' '24-01' '23/DV6' '10-01' '12-03' '38-2/DV8'\n",
      " '41-01' '38-01' '36/DV7' '38-02' '30-01' '34-01' '07-01' '09-01']\n"
     ]
    }
   ],
   "source": [
    "V = McPAS_data['V_gene'].unique()\n",
    "print(V)"
   ]
  },
  {
   "cell_type": "code",
   "execution_count": 33,
   "metadata": {},
   "outputs": [
    {
     "name": "stdout",
     "output_type": "stream",
     "text": [
      "['C']\n"
     ]
    }
   ],
   "source": [
    "# See if CDR3 sequences start with C and end with F\n",
    "McPAS_data['CDR3_start'] = McPAS_data['CDR3'].str[0] \n",
    "McPAS_data['CDR3_end'] = McPAS_data['CDR3'].str[-1]  \n",
    "# Remove rows with CDR3 sequences which do not start with a C and end with a F or W\n",
    "McPAS_data = McPAS_data.loc[McPAS_data['CDR3_end'].str.contains(r'[F,W]') == True]\n",
    "McPAS_data = McPAS_data.loc[McPAS_data['CDR3_start'].str.contains(r'[C]') == True]\n",
    "\n",
    "# CDR3 sequences with unknown Aminoacids, weird characters, no CDR3 sequence present and lowercase AA are removed \n",
    "weird_characters = [r'[_]',r'[*]',r'[(]',r'[)]',r'[NaN]',r'[a-z]']\n",
    "for char in weird_characters:\n",
    "    McPAS_data = McPAS_data.loc[McPAS_data['CDR3'].str.contains(char) == False]\n",
    "\n",
    "start = McPAS_data['CDR3_start'].unique()\n",
    "print(start)"
   ]
  },
  {
   "cell_type": "code",
   "execution_count": 34,
   "metadata": {},
   "outputs": [
    {
     "name": "stdout",
     "output_type": "stream",
     "text": [
      "['F' 'W']\n"
     ]
    }
   ],
   "source": [
    "end = McPAS_data['CDR3_end'].unique()\n",
    "print(end)"
   ]
  },
  {
   "cell_type": "code",
   "execution_count": 35,
   "metadata": {},
   "outputs": [
    {
     "data": {
      "text/html": [
       "<div>\n",
       "<style scoped>\n",
       "    .dataframe tbody tr th:only-of-type {\n",
       "        vertical-align: middle;\n",
       "    }\n",
       "\n",
       "    .dataframe tbody tr th {\n",
       "        vertical-align: top;\n",
       "    }\n",
       "\n",
       "    .dataframe thead th {\n",
       "        text-align: right;\n",
       "    }\n",
       "</style>\n",
       "<table border=\"1\" class=\"dataframe\">\n",
       "  <thead>\n",
       "    <tr style=\"text-align: right;\">\n",
       "      <th></th>\n",
       "      <th>CDR3</th>\n",
       "      <th>Epitope</th>\n",
       "      <th>Gene</th>\n",
       "      <th>J_gene</th>\n",
       "      <th>V_family</th>\n",
       "      <th>V_gene</th>\n",
       "    </tr>\n",
       "  </thead>\n",
       "  <tbody>\n",
       "    <tr>\n",
       "      <th>12</th>\n",
       "      <td>CAAPQAGTALIF</td>\n",
       "      <td>AARAVFLAL</td>\n",
       "      <td>TRA</td>\n",
       "      <td>15</td>\n",
       "      <td>08</td>\n",
       "      <td>08-02</td>\n",
       "    </tr>\n",
       "    <tr>\n",
       "      <th>13</th>\n",
       "      <td>CTDVSTGGFKTIF</td>\n",
       "      <td>AARAVFLAL</td>\n",
       "      <td>TRA</td>\n",
       "      <td>09</td>\n",
       "      <td>03</td>\n",
       "      <td>03-01</td>\n",
       "    </tr>\n",
       "    <tr>\n",
       "      <th>23</th>\n",
       "      <td>CAVSDITYKYIF</td>\n",
       "      <td>AVFDRKSDAK</td>\n",
       "      <td>TRA</td>\n",
       "      <td>40</td>\n",
       "      <td>16</td>\n",
       "      <td>16-01</td>\n",
       "    </tr>\n",
       "    <tr>\n",
       "      <th>28</th>\n",
       "      <td>CAEYSSASKIIF</td>\n",
       "      <td>GLCTLVAML</td>\n",
       "      <td>TRA</td>\n",
       "      <td>03</td>\n",
       "      <td>15</td>\n",
       "      <td>15-01</td>\n",
       "    </tr>\n",
       "    <tr>\n",
       "      <th>31</th>\n",
       "      <td>CAEDADSTLTF</td>\n",
       "      <td>GLCTLVAML</td>\n",
       "      <td>TRA</td>\n",
       "      <td>11</td>\n",
       "      <td>15</td>\n",
       "      <td>15-01</td>\n",
       "    </tr>\n",
       "  </tbody>\n",
       "</table>\n",
       "</div>"
      ],
      "text/plain": [
       "             CDR3     Epitope Gene J_gene V_family V_gene\n",
       "12   CAAPQAGTALIF   AARAVFLAL  TRA     15       08  08-02\n",
       "13  CTDVSTGGFKTIF   AARAVFLAL  TRA     09       03  03-01\n",
       "23   CAVSDITYKYIF  AVFDRKSDAK  TRA     40       16  16-01\n",
       "28   CAEYSSASKIIF   GLCTLVAML  TRA     03       15  15-01\n",
       "31    CAEDADSTLTF   GLCTLVAML  TRA     11       15  15-01"
      ]
     },
     "execution_count": 35,
     "metadata": {},
     "output_type": "execute_result"
    }
   ],
   "source": [
    "# Delete columns which are no longer needed in further steps\n",
    "McPAS_data = McPAS_data[['CDR3', 'Epitope', 'Gene', 'J_gene', 'V_family', 'V_gene']]\n",
    "McPAS_data = McPAS_data[sorted(McPAS_data.columns)]\n",
    "McPAS_data.head()"
   ]
  },
  {
   "cell_type": "code",
   "execution_count": 36,
   "metadata": {},
   "outputs": [],
   "source": [
    "McPAS_data.to_csv('parsed_McPAS.csv', index=False, sep=\",\")"
   ]
  },
  {
   "cell_type": "code",
   "execution_count": 37,
   "metadata": {},
   "outputs": [
    {
     "data": {
      "text/plain": [
       "(449, 6)"
      ]
     },
     "execution_count": 37,
     "metadata": {},
     "output_type": "execute_result"
    }
   ],
   "source": [
    "McPAS_data.shape"
   ]
  },
  {
   "cell_type": "code",
   "execution_count": 38,
   "metadata": {},
   "outputs": [
    {
     "name": "stdout",
     "output_type": "stream",
     "text": [
      "Finished\n"
     ]
    }
   ],
   "source": [
    "print('Finished')"
   ]
  },
  {
   "cell_type": "code",
   "execution_count": null,
   "metadata": {},
   "outputs": [],
   "source": []
  }
 ],
 "metadata": {
  "kernelspec": {
   "display_name": "Python [conda env:RL]",
   "language": "python",
   "name": "conda-env-RL-py"
  },
  "language_info": {
   "codemirror_mode": {
    "name": "ipython",
    "version": 3
   },
   "file_extension": ".py",
   "mimetype": "text/x-python",
   "name": "python",
   "nbconvert_exporter": "python",
   "pygments_lexer": "ipython3",
   "version": "3.7.9"
  }
 },
 "nbformat": 4,
 "nbformat_minor": 4
}
